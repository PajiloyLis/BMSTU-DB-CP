{
 "cells": [
  {
   "cell_type": "code",
   "id": "initial_id",
   "metadata": {
    "collapsed": true,
    "ExecuteTime": {
     "end_time": "2025-05-05T21:00:10.536414Z",
     "start_time": "2025-05-05T21:00:10.244637Z"
    }
   },
   "source": [
    "import uuid\n",
    "from faker import Faker\n",
    "import random\n",
    "import datetime"
   ],
   "outputs": [],
   "execution_count": 1
  },
  {
   "metadata": {
    "ExecuteTime": {
     "end_time": "2025-05-05T21:00:10.640263Z",
     "start_time": "2025-05-05T21:00:10.540856Z"
    }
   },
   "cell_type": "code",
   "source": "fake = Faker('ru_RU')",
   "id": "6f76ad79d036eb31",
   "outputs": [],
   "execution_count": 2
  },
  {
   "metadata": {
    "ExecuteTime": {
     "end_time": "2025-05-06T00:12:33.340260Z",
     "start_time": "2025-05-06T00:12:33.323266Z"
    }
   },
   "cell_type": "code",
   "source": [
    "employee_names=[f\"{fake.last_name_male()} {fake.first_name_male()} {fake.middle_name_male()}\" for i in range(50)]\n",
    "employee_names.extend([f\"{fake.last_name_female()} {fake.first_name_female()} {fake.middle_name_female()}\" for i in range(50)])\n",
    "random.shuffle(employee_names)\n",
    "employee_names;"
   ],
   "id": "c22039c3e1db34d0",
   "outputs": [],
   "execution_count": 67
  },
  {
   "metadata": {
    "ExecuteTime": {
     "end_time": "2025-05-06T00:12:37.224624Z",
     "start_time": "2025-05-06T00:12:37.211749Z"
    }
   },
   "cell_type": "code",
   "source": [
    "employee_phones = [fake.numerify(\"+7##########\") for i in range(100)]\n",
    "employee_phones;"
   ],
   "id": "af4639f1782f94d9",
   "outputs": [],
   "execution_count": 68
  },
  {
   "metadata": {
    "ExecuteTime": {
     "end_time": "2025-05-06T00:12:40.176840Z",
     "start_time": "2025-05-06T00:12:40.164876Z"
    }
   },
   "cell_type": "code",
   "source": [
    "employee_emails = [fake.free_email() for _ in range(100)]\n",
    "employee_emails;"
   ],
   "id": "9546f108b5ef7db8",
   "outputs": [],
   "execution_count": 69
  },
  {
   "metadata": {
    "ExecuteTime": {
     "end_time": "2025-05-06T00:12:42.538169Z",
     "start_time": "2025-05-06T00:12:42.516520Z"
    }
   },
   "cell_type": "code",
   "source": [
    "employee_birthday = [fake.date_between(start_date=datetime.date.today()-datetime.timedelta(days=70*366), end_date=datetime.date.today()-datetime.timedelta(days=18*366)).strftime('%d-%m-%Y') for _ in range(100)]\n",
    "employee_birthday;"
   ],
   "id": "e684831e927ce17f",
   "outputs": [],
   "execution_count": 70
  },
  {
   "metadata": {
    "ExecuteTime": {
     "end_time": "2025-05-06T00:12:44.755064Z",
     "start_time": "2025-05-06T00:12:44.747981Z"
    }
   },
   "cell_type": "code",
   "source": [
    "import uuid\n",
    "employee_id = [str(uuid.uuid4()) for _ in range(100)]\n",
    "employee_id;"
   ],
   "id": "c590832cc0b85780",
   "outputs": [],
   "execution_count": 71
  },
  {
   "metadata": {
    "ExecuteTime": {
     "end_time": "2025-05-06T00:12:47.397884Z",
     "start_time": "2025-05-06T00:12:47.392505Z"
    }
   },
   "cell_type": "code",
   "source": "import pandas as pd",
   "id": "d9d8312ad7ca44e9",
   "outputs": [],
   "execution_count": 72
  },
  {
   "metadata": {
    "ExecuteTime": {
     "end_time": "2025-05-06T00:12:49.896601Z",
     "start_time": "2025-05-06T00:12:49.887934Z"
    }
   },
   "cell_type": "code",
   "source": [
    "df = pd.DataFrame({\"id\" : employee_id, \"full_name\" : employee_names, \"phone\" : employee_phones, \"email\" : employee_emails, \"birth_date\" : employee_birthday})\n",
    "df;"
   ],
   "id": "c41af914fc724bc8",
   "outputs": [],
   "execution_count": 73
  },
  {
   "metadata": {
    "ExecuteTime": {
     "end_time": "2025-05-06T00:12:52.515911Z",
     "start_time": "2025-05-06T00:12:52.509493Z"
    }
   },
   "cell_type": "code",
   "source": "df.to_csv(\"/tmp/employee.csv\", index=False);",
   "id": "43051452eba7f8e8",
   "outputs": [],
   "execution_count": 74
  },
  {
   "metadata": {
    "ExecuteTime": {
     "end_time": "2025-05-06T00:12:53.102953Z",
     "start_time": "2025-05-06T00:12:53.090467Z"
    }
   },
   "cell_type": "code",
   "source": [
    "university = [\"Московский государственный университет имени М.В. Ломоносова\", \"Санкт-Петербургский государственный университет\", \"Национальный исследовательский университет «Высшая школа экономики»\", \"Московский физико-технический институт\", \"Национальный исследовательский ядерный университет «МИФИ»\", \"Московский государственный институт международных отношений\", \"Санкт-Петербургский политехнический университет Петра Великого\", \"Новосибирский национальный исследовательский государственный университет\", \"Уральский федеральный университет\", \"Казанский федеральный университет\", \"Национальный исследовательский Томский государственный университет\", \"Российская академия народного хозяйства и государственной службы при Президенте РФ\", \"Финансовый университет при Правительстве РФ\", \"Российский университет дружбы народов\", \"Московский государственный технический университет имени Н.Э. Баумана\", \"Национальный исследовательский технологический университет «МИСиС»\", \"Санкт-Петербургский государственный электротехнический университет «ЛЭТИ»\", \"Дальневосточный федеральный университет\", \"Сибирский федеральный университет\", \"Южный федеральный университет\"]\n",
    "\n",
    "post_university = [\"Академия народного хозяйства и государственной службы при Президенте Российской Федерации (РАНХиГС)\", \"Межрегиональная академия строительного и промышленного комплекса (МАСПК)\", \"Национальный исследовательский университет «Высшая школа экономики» (НИУ ВШЭ)\", \"Центр дополнительного профессионального образования «Специалист» при МГТУ им. Н.Э. Баумана\", \"Институт профессионального образования «ИПО»\", \"Академия дополнительного профессионального образования\", \"Учебный центр «Финконт»\", \"Международная академия экспертизы и оценки\", \"Санкт-Петербургская академия постдипломного педагогического образования\", \"Московский институт повышения квалификации и профессиональной переподготовки кадров\"]\n",
    "\n",
    "required_levels = [\"Высшее (бакалвриат)\", \"Высшее (магистратура)\", \"Высшее (специалитет)\", \"Среднее профессиональное (ПКР)\", \"Среднее профессиональное (ПССЗ)\"]\n",
    "\n",
    "addition_levels = [\"Программы переподготовки рабочих и служащих\", \"Курсы повышения квалификации\"]\n",
    "\n",
    "study_fields = [\"Прикладная информатика\", \"Информатика и вычислительная техника\", \"Программная инженерия\", \"Информационные системы и технологии\", \"Бизнес-информатика\", \"Прикладная математика и информатика\", \"Информационная безопасность\", \"Большие данные и анализ данных\", \"Искусственный интеллект и машинное обучение\", \"Кибербезопасность\", \"Разработка программного обеспечения\", \"Веб-технологии\", \"Мобильные приложения\", \"Компьютерная графика и дизайн\", \"Системное администрирование\", \"Сетевые технологии\", \"Облачные вычисления\", \"Тестирование программного обеспечения\", \"Робототехника\", \"Цифровая трансформация бизнеса\", \"Экономика\", \"Экономика предприятий и организаций\", \"Финансы и кредит\", \"Бухгалтерский учет, анализ и аудит\", \"Налоги и налогообложение\", \"Мировая экономика\", \"Экономическая безопасность\", \"Банковское дело\", \"Страховое дело\", \"Таможенное дело\", \"Государственные и муниципальные финансы\", \"Корпоративные финансы\", \"Финансовый менеджмент\", \"Инвестиционный анализ\", \"Рынок ценных бумаг\", \"Антикризисное управление\", \"Экономика труда\", \"Цифровая экономика\", \"Блокчейн и финансовые технологии\", \"Бухгалтерский учет в коммерческих организациях\", \"Бухгалтерский учет в бюджетных организациях\", \"Управленческий учет\", \"Налоговый учет\", \"Финансовая отчетность\", \"Аудит\", \"Экономика и управление на предприятии\", \"Логистика и управление цепями поставок\", \"Маркетинг\", \"Цифровой маркетинг\", \"Управление персоналом\", \"Бизнес-аналитика\", \"Предпринимательство\", \"Эконометрика\"]"
   ],
   "id": "216c904143530706",
   "outputs": [],
   "execution_count": 75
  },
  {
   "metadata": {
    "ExecuteTime": {
     "end_time": "2025-05-06T00:12:56.144954Z",
     "start_time": "2025-05-06T00:12:56.136870Z"
    }
   },
   "cell_type": "code",
   "source": "datetime.datetime.strptime(employee_birthday[0], \"%d-%m-%Y\").date();",
   "id": "b6d843805556f680",
   "outputs": [],
   "execution_count": 76
  },
  {
   "metadata": {
    "ExecuteTime": {
     "end_time": "2025-05-06T00:12:58.878878Z",
     "start_time": "2025-05-06T00:12:58.870657Z"
    }
   },
   "cell_type": "code",
   "source": [
    "from dateutil.relativedelta import relativedelta\n",
    "start_date = datetime.date(day=1, month=9, year=(datetime.datetime.strptime(employee_birthday[0], \"%d-%m-%Y\").date()+relativedelta(years=random.randint(16, 22))).year)\n",
    "start_date;"
   ],
   "id": "1681aabbbf6a06b0",
   "outputs": [],
   "execution_count": 77
  },
  {
   "metadata": {
    "ExecuteTime": {
     "end_time": "2025-05-06T00:13:03.521720Z",
     "start_time": "2025-05-06T00:13:03.511170Z"
    }
   },
   "cell_type": "code",
   "source": [
    "education_id = [str(uuid.uuid4()) for _ in range(100)]\n",
    "education_id;"
   ],
   "id": "e56f5da270c634af",
   "outputs": [],
   "execution_count": 78
  },
  {
   "metadata": {
    "ExecuteTime": {
     "end_time": "2025-05-06T00:13:06.337264Z",
     "start_time": "2025-05-06T00:13:06.331151Z"
    }
   },
   "cell_type": "code",
   "source": [
    "education_employee_id = employee_id\n",
    "education_employee_id;"
   ],
   "id": "f2eb9caf43227bbd",
   "outputs": [],
   "execution_count": 79
  },
  {
   "metadata": {
    "ExecuteTime": {
     "end_time": "2025-05-06T00:13:10.091172Z",
     "start_time": "2025-05-06T00:13:10.081789Z"
    }
   },
   "cell_type": "code",
   "source": [
    "education_institutions = [random.choice(university) for _ in range(100)]\n",
    "education_institutions;"
   ],
   "id": "579b60ea3fb29de0",
   "outputs": [],
   "execution_count": 80
  },
  {
   "metadata": {
    "ExecuteTime": {
     "end_time": "2025-05-06T00:13:12.132168Z",
     "start_time": "2025-05-06T00:13:12.123847Z"
    }
   },
   "cell_type": "code",
   "source": [
    "education_level = [random.choice(required_levels) for _ in range(100)]\n",
    "education_level;"
   ],
   "id": "9ca3a04dd17dff77",
   "outputs": [],
   "execution_count": 81
  },
  {
   "metadata": {
    "ExecuteTime": {
     "end_time": "2025-05-06T00:13:14.956694Z",
     "start_time": "2025-05-06T00:13:14.947782Z"
    }
   },
   "cell_type": "code",
   "source": [
    "education_field = [random.choice(study_fields) for _ in range(100)]\n",
    "education_field;"
   ],
   "id": "e733ada0e102efab",
   "outputs": [],
   "execution_count": 82
  },
  {
   "metadata": {
    "ExecuteTime": {
     "end_time": "2025-05-06T00:13:17.340795Z",
     "start_time": "2025-05-06T00:13:17.313776Z"
    }
   },
   "cell_type": "code",
   "source": [
    "education_start = []\n",
    "for i in range(100):\n",
    "    generated = datetime.date(day=1, month=9, year=(datetime.datetime.strptime(employee_birthday[i], \"%d-%m-%Y\").date()+relativedelta(years=random.randint(16, 22))).year)\n",
    "    if datetime.date.today() >= datetime.date(day=1, month=9, year=datetime.date.today().year):\n",
    "        education_start.append(min(datetime.date(day=1, month=9, year=datetime.date.today().year), generated).strftime(\"%d-%m-%Y\"))\n",
    "    else:\n",
    "        education_start.append(min(generated, datetime.date(day=1, month=9, year=datetime.date.today().year-1)).strftime(\"%d-%m-%Y\"))\n",
    "education_start;"
   ],
   "id": "c0297abe2f136196",
   "outputs": [],
   "execution_count": 83
  },
  {
   "metadata": {
    "ExecuteTime": {
     "end_time": "2025-05-06T00:13:19.834452Z",
     "start_time": "2025-05-06T00:13:19.828216Z"
    }
   },
   "cell_type": "code",
   "source": "employee_birthday;",
   "id": "26a7419c5a0dd078",
   "outputs": [],
   "execution_count": 84
  },
  {
   "metadata": {
    "ExecuteTime": {
     "end_time": "2025-05-06T00:13:23.685896Z",
     "start_time": "2025-05-06T00:13:23.636267Z"
    }
   },
   "cell_type": "code",
   "source": [
    "education_end=[]\n",
    "for i in range(len(education_start)):\n",
    "    if education_level[i] == \"Среднее профессиональное (ПКР)\":\n",
    "        education_end.append((datetime.datetime.strptime(education_start[i], \"%d-%m-%Y\")+relativedelta(years=2, months=10)).strftime(\"%d-%m-%Y\"))\n",
    "    elif education_level[i] == \"Среднее профессиональное (ПССЗ)\":\n",
    "        education_end.append((datetime.datetime.strptime(education_start[i], \"%d-%m-%Y\")+relativedelta(years=3, months=10)).strftime(\"%d-%m-%Y\"))\n",
    "    elif education_level[i] == \"Высшее (бакалвриат)\":\n",
    "        education_end.append((datetime.datetime.strptime(education_start[i], \"%d-%m-%Y\")+relativedelta(years=4)).strftime(\"%d-%m-%Y\"))\n",
    "    elif education_level[i] == \"Высшее (магистратура)\":\n",
    "        education_end.append((datetime.datetime.strptime(education_start[i], \"%d-%m-%Y\")+relativedelta(years=6)).strftime(\"%d-%m-%Y\"))\n",
    "    elif education_level[i]== \"Высшее (специалитет)\":\n",
    "        education_end.append((datetime.datetime.strptime(education_start[i], \"%d-%m-%Y\")+relativedelta(years=5, months=6)).strftime(\"%d-%m-%Y\"))\n",
    "education_end;"
   ],
   "id": "537079e4b1ea1c40",
   "outputs": [],
   "execution_count": 85
  },
  {
   "metadata": {
    "ExecuteTime": {
     "end_time": "2025-05-06T00:13:45.524277Z",
     "start_time": "2025-05-06T00:13:45.474533Z"
    }
   },
   "cell_type": "code",
   "source": [
    "i = 0\n",
    "while i < 50:\n",
    "    selected_employee_id = random.choice(employee_id)\n",
    "    if datetime.datetime.strptime(education_end[employee_id.index(selected_employee_id)], \"%d-%m-%Y\") + relativedelta(years=9) > datetime.datetime.now():\n",
    "        continue\n",
    "    education_id.append(str(uuid.uuid4()))\n",
    "    # print(education_id[-1])\n",
    "    education_employee_id.append(selected_employee_id)\n",
    "    # print(education_employee_id[-1])\n",
    "    education_institutions.append(random.choice(post_university))\n",
    "    # print(education_institutions[-1])\n",
    "    education_level.append(random.choice(addition_levels))\n",
    "    # print(education_level[-1])\n",
    "    education_field.append(random.choice(education_field))\n",
    "    # print(education_field[-1])\n",
    "    generated = datetime.date(day=random.randint(1, 28), month=random.randint(1, 12), year=(datetime.datetime.strptime(education_start[education_employee_id.index(selected_employee_id)], \"%d-%m-%Y\") + relativedelta(years=random.randint(7, 9))).year)\n",
    "    education_start.append(min(generated, (datetime.date.today()-datetime.timedelta(days=1))).strftime(\"%d-%m-%Y\"))\n",
    "    # print(education_start[-1])\n",
    "    if education_field[education_employee_id.index(education_employee_id[-1])] != education_field[-1]:\n",
    "        education_end.append((datetime.datetime.strptime(education_start[-1], \"%d-%m-%Y\")+relativedelta(months=random.randint(6, 12))).strftime(\"%d-%m-%Y\"))\n",
    "    else:\n",
    "        education_end.append((datetime.datetime.strptime(education_start[-1], \"%d-%m-%Y\")+relativedelta(months=random.randint(2, 6))).strftime(\"%d-%m-%Y\"))\n",
    "    # print(education_end[-1])\n",
    "    i+=1"
   ],
   "id": "c656d4658ceb30cf",
   "outputs": [],
   "execution_count": 86
  },
  {
   "metadata": {
    "ExecuteTime": {
     "end_time": "2025-05-06T00:13:49.836907Z",
     "start_time": "2025-05-06T00:13:49.825254Z"
    }
   },
   "cell_type": "code",
   "source": "len(education_field);",
   "id": "9b0ff79aa87cfc70",
   "outputs": [],
   "execution_count": 87
  },
  {
   "metadata": {
    "ExecuteTime": {
     "end_time": "2025-05-06T00:13:52.695372Z",
     "start_time": "2025-05-06T00:13:52.683892Z"
    }
   },
   "cell_type": "code",
   "source": [
    "education_df = pd.DataFrame({\"id\" : education_id, \"employee_id\" : education_employee_id, \"institution\": education_institutions, \"education_level\": education_level, \"study_field\" : education_field, \"start_date\" : education_start, \"end_date\" : education_end})\n",
    "education_df;"
   ],
   "id": "4d737d62d14dc56b",
   "outputs": [],
   "execution_count": 88
  },
  {
   "metadata": {
    "ExecuteTime": {
     "end_time": "2025-05-05T21:00:17.514301Z",
     "start_time": "2025-05-05T21:00:17.501411Z"
    }
   },
   "cell_type": "code",
   "source": "education_df.to_csv(\"/tmp/education.csv\", index=False)",
   "id": "96a8e747dfa4f86",
   "outputs": [],
   "execution_count": 25
  },
  {
   "metadata": {
    "ExecuteTime": {
     "end_time": "2025-05-06T00:13:55.133239Z",
     "start_time": "2025-05-06T00:13:55.122456Z"
    }
   },
   "cell_type": "code",
   "source": [
    "company_names = [\"Finora\", \"QuantumPay\", \"Neobit\", \"ChainGuard\", \"DataFlow Capital\", \"CloudFin\"]\n",
    "company_id = [uuid.uuid4() for _ in range(len(company_names))]"
   ],
   "id": "de9b2d32f1abb917",
   "outputs": [],
   "execution_count": 89
  },
  {
   "metadata": {
    "ExecuteTime": {
     "end_time": "2025-05-06T00:13:59.945265Z",
     "start_time": "2025-05-06T00:13:59.934541Z"
    }
   },
   "cell_type": "code",
   "source": [
    "company_registration_date = [fake.date_between(start_date=datetime.date(year=2000, month=1, day=1), end_date=datetime.date.today()-relativedelta(years=5)) for _ in range(len(company_names))]\n",
    "company_registration_date;"
   ],
   "id": "633d35af2f9db26b",
   "outputs": [],
   "execution_count": 91
  },
  {
   "metadata": {
    "ExecuteTime": {
     "end_time": "2025-05-06T00:14:02.000313Z",
     "start_time": "2025-05-06T00:14:01.992712Z"
    }
   },
   "cell_type": "code",
   "source": [
    "company_phones = [fake.numerify(\"+7##########\") for i in range(len(company_names))]\n",
    "company_phones;"
   ],
   "id": "a61a2c446d5cbbfc",
   "outputs": [],
   "execution_count": 92
  },
  {
   "metadata": {
    "ExecuteTime": {
     "end_time": "2025-05-06T00:14:04.480121Z",
     "start_time": "2025-05-06T00:14:04.470122Z"
    }
   },
   "cell_type": "code",
   "source": [
    "company_emails = [fake.free_email() for _ in range(len(company_names))]\n",
    "for i in range(len(company_names)):\n",
    "    company_emails[i]=f\"{company_names[i].replace(' ', '_')}{company_emails[i][company_emails[i].find('@'):]}\"\n",
    "company_emails;"
   ],
   "id": "13743f3a83e9c637",
   "outputs": [],
   "execution_count": 93
  },
  {
   "metadata": {
    "ExecuteTime": {
     "end_time": "2025-05-06T00:14:06.293623Z",
     "start_time": "2025-05-06T00:14:06.285448Z"
    }
   },
   "cell_type": "code",
   "source": "company_inns = [\"0123456789\", \"2345678901\", \"3456789012\", \"4567890123\", \"5678901234\", \"6789012345\"]",
   "id": "be9f94c5fcd82acd",
   "outputs": [],
   "execution_count": 94
  },
  {
   "metadata": {
    "ExecuteTime": {
     "end_time": "2025-05-06T00:14:07.021037Z",
     "start_time": "2025-05-06T00:14:07.008079Z"
    }
   },
   "cell_type": "code",
   "source": "company_kpps = [\"770501001\", \"772643002\", \"773456003\", \"774567004\", \"775678005\", \"776789006\"]",
   "id": "503e64703cb0c833",
   "outputs": [],
   "execution_count": 95
  },
  {
   "metadata": {
    "ExecuteTime": {
     "end_time": "2025-05-06T00:14:07.571879Z",
     "start_time": "2025-05-06T00:14:07.564538Z"
    }
   },
   "cell_type": "code",
   "source": "company_ogrns = [\"1027700345678\", \"1037700567890\", \"1047700789012\", \"1057700901234\", \"1067700123456\", \"1077700543210\"]",
   "id": "d0f60f0f410d477a",
   "outputs": [],
   "execution_count": 96
  },
  {
   "metadata": {
    "ExecuteTime": {
     "end_time": "2025-05-06T00:14:08.038374Z",
     "start_time": "2025-05-06T00:14:08.030797Z"
    }
   },
   "cell_type": "code",
   "source": [
    "company_address = [\"125040, г. Москва, Ленинградский проспект, д. 42, офис 101\",\n",
    "\"190000, г. Санкт-Петербург, Невский проспект, д. 15, лит. А\",\n",
    "\"620014, Свердловская обл., г. Екатеринбург, ул. Малышева, д. 51, пом. 12\",\n",
    "\"350000, Краснодарский край, г. Краснодар, ул. Красная, д. 32, офис 45\",\n",
    "\"630099, Новосибирская обл., г. Новосибирск, ул. Советская, д. 25, кв. 3\",\n",
    "\"454080, Челябинская обл., г. Челябинск, пр-т Ленина, д. 83, помещ. 7\"]"
   ],
   "id": "2ca818c826bbc7df",
   "outputs": [],
   "execution_count": 97
  },
  {
   "metadata": {
    "ExecuteTime": {
     "end_time": "2025-05-06T00:14:13.750334Z",
     "start_time": "2025-05-06T00:14:13.740066Z"
    }
   },
   "cell_type": "code",
   "source": [
    "df = pd.DataFrame({\"id\": company_id, \"title\" : company_names, \"registration_date\" : company_registration_date, \"phone\" : company_phones, \"email\": company_emails, \"inn\" : company_inns, \"kpp\": company_kpps, \"ogrn\": company_ogrns, \"address\" : company_address})\n",
    "df;"
   ],
   "id": "fcc6007fa995b21d",
   "outputs": [],
   "execution_count": 99
  },
  {
   "metadata": {
    "ExecuteTime": {
     "end_time": "2025-05-06T00:14:15.955793Z",
     "start_time": "2025-05-06T00:14:15.946016Z"
    }
   },
   "cell_type": "code",
   "source": "df.to_csv(\"/tmp/company.csv\", index=False)",
   "id": "51e5ce58f8da7f89",
   "outputs": [],
   "execution_count": 100
  },
  {
   "metadata": {
    "ExecuteTime": {
     "end_time": "2025-05-06T00:14:24.429391Z",
     "start_time": "2025-05-06T00:14:24.395615Z"
    }
   },
   "cell_type": "code",
   "source": [
    "posts_names_1 = [\"Генеральный директор\", \"Финансовый директор\", \"Технический директор\", \"Руководитель продукта\", \"Руководитель отдела разработки\", \"Backend-разработчик\", \"Frontend-разработчик\", \"DevOps-инженер\", \"Архитектор баз данных\", \"Руководитель по информационной безопасности\", \"Аналитик данных\", \"Руководитель клиентского сервиса\", \"Менеджер по продукту\", \"UX/UI-дизайнер\", \"Маркетинг-директор\", \"SMM-специалист\", \"Контент-менеджер\", \"Юрист\", \"Бухгалтер\", \"HR-менеджер\"]\n",
    "posts_names_2 = [\"CEO\", \"CTO\", \"Blockchain-разработчик\", \"Smart Contract Engineer\", \"Криптоаналитик\", \"Руководитель compliance\", \"AML-специалист\", \"Финансовый аналитик\", \"Менеджер по партнерствам\", \"Тестировщик\", \"Системный администратор\", \"Руководитель отдела маркетинга\", \"PR-менеджер\", \"Специалист по кибербезопасности\", \"Поддержка клиентов\", \"Юрист по цифровым активам\", \"Бухгалтер по криптооперациям\", \"Рекрутер\", \"Офис-менеджер\", \"Интернет-маркетолог\"]\n",
    "posts_names_3 = [\"Председатель правления\", \"Директор по цифровым технологиям\", \"Руководитель риск-менеджмента\", \"Product Owner\", \"Scrum-мастер\", \"iOS-разработчик\", \"Android-разработчик\", \"Data Scientist\", \"BI-аналитик\", \"Специалист по машинному обучению\", \"Руководитель call-центра\", \"Менеджер по лояльности\", \"Дизайнер интерфейсов\", \"Копирайтер\", \"Специалист по цифровой трансформации\", \"Аудитор\", \"Специалист по кадровому делопроизводству\", \"Секретарь\", \"Системный аналитик\", \"Специалист по интеграциям\"]\n",
    "posts_names_4 = [\"Исполнительный директор\", \"Директор по исследованиям\", \"Руководитель SOC\", \"Ethical Hacker\", \"Аналитик угроз\", \"Специалист по цифровой криминалистике\", \"Инженер по безопасности\", \"Пентестер\", \"Руководитель GR\", \"Менеджер по продажам решений\", \"Технический писатель\", \"Специалист по сертификации\", \"Менеджер проектов\", \"Специалист по обучению\", \"HRBP\", \"Офис-координатор\", \"Бухгалтер по международным стандартам\", \"Юрист по ИБ\", \"Специалист по облачной безопасности\", \"Менеджер по работе с ключевыми клиентами\"]\n",
    "posts_names_5 = [\"Управляющий партнер\", \"Директор по инвестициям\", \"Квантовый аналитик\", \"Финансовый инженер\", \"Руководитель AI-лаборатории\", \"Big Data-архитектор\", \"Аналитик рыночных тенденций\", \"Специалист по альтернативным данным\", \"Менеджер портфеля\", \"Специалист по стресс-тестированию\", \"Руководитель отдела аналитики\", \"Специалист по визуализации данных\", \"Менеджер по развитию бизнеса\", \"Специалист по регулированию\", \"Координатор исследований\", \"Офис-администратор\", \"IT-администратор\", \"Специалист по документации\", \"Менеджер по персоналу\", \"Специалист по комплаенсу\"]\n",
    "posts_names_6 = [\"CEO\", \"Директор по облачным технологиям\", \"Руководитель SaaS-направления\", \"Cloud Architect\", \"Site Reliability Engineer\", \"Специалист по API\", \"Инженер по миграции\", \"Специалист по Kubernetes\", \"Менеджер по продажам B2B\", \"Технический евангелист\", \"Специалист по технической поддержке\", \"Руководитель учебного центра\", \"Специалист по DevOps-практикам\", \"Менеджер по партнерским программам\", \"Специалист по SLA\", \"Финансовый контролер\", \"Юрист по облачным сервисам\", \"Офис-менеджер\", \"HR-аналитик\", \"Специалист по автоматизации HR-процессов\"]\n",
    "posts_names = posts_names_1.copy()\n",
    "posts_names.extend(posts_names_2)\n",
    "posts_names.extend(posts_names_3)\n",
    "posts_names.extend(posts_names_4)\n",
    "posts_names.extend(posts_names_5)\n",
    "posts_names.extend(posts_names_6)\n",
    "posts_names;"
   ],
   "id": "3ac3b9914355cd98",
   "outputs": [],
   "execution_count": 103
  },
  {
   "metadata": {
    "ExecuteTime": {
     "end_time": "2025-05-06T00:14:27.648550Z",
     "start_time": "2025-05-06T00:14:27.609232Z"
    }
   },
   "cell_type": "code",
   "source": [
    "posts_id = [uuid.uuid4() for _ in range(len(posts_names))]\n",
    "posts_company_id = [company_id[0] for _ in range(len(posts_names_1))]\n",
    "posts_company_id.extend([company_id[1] for _ in range(len(posts_names_2))])\n",
    "posts_company_id.extend([company_id[2] for _ in range(len(posts_names_3))])\n",
    "posts_company_id.extend([company_id[3] for _ in range(len(posts_names_4))])\n",
    "posts_company_id.extend([company_id[4] for _ in range(len(posts_names_5))])\n",
    "posts_company_id.extend([company_id[5] for _ in range(len(posts_names_6))])\n",
    "posts_company_id;"
   ],
   "id": "3eb4c50ed32d89ed",
   "outputs": [],
   "execution_count": 104
  },
  {
   "metadata": {
    "ExecuteTime": {
     "end_time": "2025-05-06T00:14:31.704347Z",
     "start_time": "2025-05-06T00:14:31.691553Z"
    }
   },
   "cell_type": "code",
   "source": [
    "posts_salary = [300000, 250000, 280000, 220000, 230000, 180000, 170000, 190000, 210000, 240000, 160000, 150000, 200000, 140000, 220000, 90000, 80000, 120000, 110000, 100000, 350000, 320000, 280000, 270000, 230000, 250000, 220000, 210000, 190000, 150000, 160000, 240000, 130000, 290000, 120000, 260000, 140000, 110000, 100000, 95000, 400000, 350000, 320000, 270000, 180000, 220000, 210000, 290000, 200000, 310000, 170000, 190000, 160000, 130000, 330000, 150000, 110000, 140000, 230000, 240000, 380000, 340000, 310000, 300000, 270000, 290000, 260000, 280000, 250000, 220000, 140000, 230000, 200000, 160000, 170000, 120000, 240000, 210000, 320000, 190000, 450000, 380000, 350000, 330000, 370000, 340000, 280000, 300000, 320000, 290000, 310000, 200000, 260000, 240000, 170000, 130000, 150000, 140000, 180000, 250000, 420000, 390000, 360000, 350000, 300000, 270000, 320000, 310000, 280000, 230000, 190000, 200000, 290000, 240000, 260000, 220000, 250000, 120000, 210000, 170000]\n",
    "len(posts_salary);"
   ],
   "id": "339ff9ba72753c53",
   "outputs": [],
   "execution_count": 105
  },
  {
   "metadata": {
    "ExecuteTime": {
     "end_time": "2025-05-06T00:14:35.389977Z",
     "start_time": "2025-05-06T00:14:35.376789Z"
    }
   },
   "cell_type": "code",
   "source": "len(posts_names);",
   "id": "47d3688144e1e5d1",
   "outputs": [],
   "execution_count": 106
  },
  {
   "metadata": {
    "ExecuteTime": {
     "end_time": "2025-05-06T00:14:38.253753Z",
     "start_time": "2025-05-06T00:14:38.238213Z"
    }
   },
   "cell_type": "code",
   "source": [
    "df = pd.DataFrame({\"id\": posts_id, \"title\": posts_names, \"salary\": posts_salary, \"company_id\": posts_company_id})\n",
    "df;"
   ],
   "id": "4d567d30a4495719",
   "outputs": [],
   "execution_count": 107
  },
  {
   "metadata": {
    "ExecuteTime": {
     "end_time": "2025-05-06T00:14:41.080651Z",
     "start_time": "2025-05-06T00:14:41.038897Z"
    }
   },
   "cell_type": "code",
   "source": "df.to_csv(\"/tmp/posts.csv\", index=False)",
   "id": "bef5b39e15f678e7",
   "outputs": [],
   "execution_count": 108
  },
  {
   "metadata": {
    "ExecuteTime": {
     "end_time": "2025-05-06T00:14:45.017736Z",
     "start_time": "2025-05-06T00:14:44.997030Z"
    }
   },
   "cell_type": "code",
   "source": [
    "finora_names=[\n",
    "\"Генеральный директор\", \n",
    "    \"Финансовый директор\", \n",
    "        \"Бухгалтер по платежным операциям\", \n",
    "        \"Аналитик финансовых рисков\", \n",
    "    \"Технический директор\", \n",
    "        \"Руководитель API-разработки\", \n",
    "            \"Бэкенд-разработчик платежного шлюза\", \n",
    "            \"Разработчик интеграций с банками\", \n",
    "        \"Архитектор безопасности транзакций\", \n",
    "            \"Специалист по шифрованию платежных данных\", \n",
    "            \"Аналитик мошеннических операций\"]\n",
    "quantum_pay_names=[\n",
    "\"CEO\", \n",
    "    \"Директор по блокчейн-технологиям\", \n",
    "        \"Руководитель смарт-контрактов\", \n",
    "            \"Разработчик DeFi-протоколов\", \n",
    "            \"Инженер аудита контрактов\", \n",
    "        \"Руководитель узловой инфраструктуры\", \n",
    "            \"DevOps для нод Ethereum\", \n",
    "            \"Специалист по стейкингу\", \n",
    "    \"Директор по регуляторике\", \n",
    "        \"AML-аналитик криптопотоков\", \n",
    "        \"Специалист по лицензиям VASP\"]\n",
    "neobit_names = [\n",
    "\"Председатель правления\",\n",
    "    \"Директор цифрового банкинга\",\n",
    "        \"Руководитель мобильного приложения\",\n",
    "            \"iOS-разработчик экосистемы\",\n",
    "            \"Android-разработчик карточных продуктов\",\n",
    "        \"Руководитель скоринговой системы\",\n",
    "            \"Data Scientist кредитных моделей\",\n",
    "            \"Аналитик поведенческих данных\",\n",
    "    \"Директор по клиентскому опыту\",\n",
    "        \"UX-дизайнер onboarding-потока\",\n",
    "        \"Исследователь CJM\"]\n",
    "chain_guard_names = [\n",
    "\"Исполнительный директор\",\n",
    "    \"Директор по кибербезопасности\",\n",
    "        \"Руководитель пентест-группы\",\n",
    "            \"Аудитор смарт-контрактов\",\n",
    "            \"Специалист по взлому DeFi\",\n",
    "        \"Руководитель мониторинга угроз\",\n",
    "            \"Аналитик атак MEV\",\n",
    "            \"Специалист по отслеживанию mixer-ов\",\n",
    "    \"Директор по стандартизации\",\n",
    "        \"Сертификационный эксперт ISO 27001\",\n",
    "        \"Разработчик security-политик\"]\n",
    "data_flow_capital_names = [\n",
    "\"Управляющий партнер\",\n",
    "    \"Директор квантовых вычислений\",\n",
    "        \"Руководитель алгоритмических моделей\",\n",
    "            \"Разработчик предиктивных алгоритмов\",\n",
    "            \"Специалист по оптимизации портфеля\",\n",
    "        \"Квантовый аналитик рыночных шоков\",\n",
    "    \"Директор по альтернативным данным\",\n",
    "        \"Аналитик спутниковых снимков\",\n",
    "        \"Специалист по scraping соцсетей\"]\n",
    "cloud_fin_names=[\n",
    "\"CEO\",\n",
    "    \"Директор по облачной инфраструктуре\",\n",
    "        \"Руководитель миграции legacy-систем\",\n",
    "            \"Инженер переноса Core Banking\",\n",
    "            \"Специалист по контейнеризации\",\n",
    "        \"Архитектор multi-cloud решений\",\n",
    "            \"Эксперт по AWS для финтех-сервисов\",\n",
    "            \"Специалист по hybrid cloud\",\n",
    "    \"Директор по API-экономике\",\n",
    "        \"Разработчик Open Banking API\",\n",
    "        \"Специалист по монетизации API\"\n",
    "]\n"
   ],
   "id": "b8f5f34aa4edc4f",
   "outputs": [],
   "execution_count": 109
  },
  {
   "metadata": {
    "ExecuteTime": {
     "end_time": "2025-05-06T00:14:45.837268Z",
     "start_time": "2025-05-06T00:14:45.826013Z"
    }
   },
   "cell_type": "code",
   "source": [
    "finora_with_id = {position_name : uuid.uuid4() for position_name in finora_names}\n",
    "quantum_pay_with_id  = {position_name : uuid.uuid4() for position_name in quantum_pay_names}\n",
    "neobit_with_id = {position_name : uuid.uuid4() for position_name in neobit_names}\n",
    "chain_guard_with_id = {position_name : uuid.uuid4() for position_name in chain_guard_names}\n",
    "data_flow_capital_with_id = {position_name : uuid.uuid4() for position_name in data_flow_capital_names}\n",
    "cloud_fin_with_id = {position_name : uuid.uuid4() for position_name in cloud_fin_names}"
   ],
   "id": "75774e08f96e4bbc",
   "outputs": [],
   "execution_count": 110
  },
  {
   "metadata": {
    "ExecuteTime": {
     "end_time": "2025-05-06T00:14:46.848892Z",
     "start_time": "2025-05-06T00:14:46.830458Z"
    }
   },
   "cell_type": "code",
   "source": [
    "finora_hierarchy = {\n",
    "    \"Бухгалтер по платежным операциям\": \"Финансовый директор\",\n",
    "    \"Аналитик финансовых рисков\": \"Финансовый директор\",\n",
    "    \"Финансовый директор\": \"Генеральный директор\",\n",
    "    \"Бэкенд-разработчик платежного шлюза\": \"Руководитель API-разработки\",\n",
    "    \"Разработчик интеграций с банками\": \"Руководитель API-разработки\",\n",
    "    \"Руководитель API-разработки\": \"Технический директор\",\n",
    "    \"Специалист по шифрованию платежных данных\": \"Архитектор безопасности транзакций\",\n",
    "    \"Аналитик мошеннических операций\": \"Архитектор безопасности транзакций\",\n",
    "    \"Архитектор безопасности транзакций\": \"Технический директор\",\n",
    "    \"Технический директор\": \"Генеральный директор\"\n",
    "}\n",
    "\n",
    "quantumpay_hierarchy = {\n",
    "    \"Разработчик DeFi-протоколов\": \"Руководитель смарт-контрактов\",\n",
    "    \"Инженер аудита контрактов\": \"Руководитель смарт-контрактов\",\n",
    "    \"Руководитель смарт-контрактов\": \"Директор по блокчейн-технологиям\",\n",
    "    \"DevOps для нод Ethereum\": \"Руководитель узловой инфраструктуры\",\n",
    "    \"Специалист по стейкингу\": \"Руководитель узловой инфраструктуры\",\n",
    "    \"Руководитель узловой инфраструктуры\": \"Директор по блокчейн-технологиям\",\n",
    "    \"AML-аналитик криптопотоков\": \"Директор по регуляторике\",\n",
    "    \"Специалист по лицензиям VASP\": \"Директор по регуляторике\",\n",
    "    \"Директор по блокчейн-технологиям\": \"CEO\",\n",
    "    \"Директор по регуляторике\": \"CEO\"\n",
    "}\n",
    "\n",
    "neobit_hierarchy = {\n",
    "    \"iOS-разработчик экосистемы\": \"Руководитель мобильного приложения\",\n",
    "    \"Android-разработчик карточных продуктов\": \"Руководитель мобильного приложения\",\n",
    "    \"Руководитель мобильного приложения\": \"Директор цифрового банкинга\",\n",
    "    \"Data Scientist кредитных моделей\": \"Руководитель скоринговой системы\",\n",
    "    \"Аналитик поведенческих данных\": \"Руководитель скоринговой системы\",\n",
    "    \"Руководитель скоринговой системы\": \"Директор цифрового банкинга\",\n",
    "    \"UX-дизайнер onboarding-потока\": \"Директор по клиентскому опыту\",\n",
    "    \"Исследователь CJM\": \"Директор по клиентскому опыту\",\n",
    "    \"Директор цифрового банкинга\": \"Председатель правления\",\n",
    "    \"Директор по клиентскому опыту\": \"Председатель правления\"\n",
    "}\n",
    "\n",
    "chainguard_hierarchy = {\n",
    "    \"Аудитор смарт-контрактов\": \"Руководитель пентест-группы\",\n",
    "    \"Специалист по взлому DeFi\": \"Руководитель пентест-группы\",\n",
    "    \"Руководитель пентест-группы\": \"Директор по кибербезопасности\",\n",
    "    \"Аналитик атак MEV\": \"Руководитель мониторинга угроз\",\n",
    "    \"Специалист по отслеживанию mixer-ов\": \"Руководитель мониторинга угроз\",\n",
    "    \"Руководитель мониторинга угроз\": \"Директор по кибербезопасности\",\n",
    "    \"Сертификационный эксперт ISO 27001\": \"Директор по стандартизации\",\n",
    "    \"Разработчик security-политик\": \"Директор по стандартизации\",\n",
    "    \"Директор по кибербезопасности\": \"Исполнительный директор\",\n",
    "    \"Директор по стандартизации\": \"Исполнительный директор\"\n",
    "}\n",
    "\n",
    "dataflow_hierarchy = {\n",
    "    \"Разработчик предиктивных алгоритмов\": \"Руководитель алгоритмических моделей\",\n",
    "    \"Специалист по оптимизации портфеля\": \"Руководитель алгоритмических моделей\",\n",
    "    \"Руководитель алгоритмических моделей\": \"Директор квантовых вычислений\",\n",
    "    \"Квантовый аналитик рыночных шоков\": \"Директор квантовых вычислений\",\n",
    "    \"Аналитик спутниковых снимков\": \"Директор по альтернативным данным\",\n",
    "    \"Специалист по scraping соцсетей\": \"Директор по альтернативным данным\",\n",
    "    \"Директор квантовых вычислений\": \"Управляющий партнер\",\n",
    "    \"Директор по альтернативным данным\": \"Управляющий партнер\"\n",
    "}\n",
    "\n",
    "cloudfin_hierarchy = {\n",
    "    \"Инженер переноса Core Banking\": \"Руководитель миграции legacy-систем\",\n",
    "    \"Специалист по контейнеризации\": \"Руководитель миграции legacy-систем\",\n",
    "    \"Руководитель миграции legacy-систем\": \"Директор по облачной инфраструктуре\",\n",
    "    \"Эксперт по AWS для финтех-сервисов\": \"Архитектор multi-cloud решений\",\n",
    "    \"Специалист по hybrid cloud\": \"Архитектор multi-cloud решений\",\n",
    "    \"Архитектор multi-cloud решений\": \"Директор по облачной инфраструктуре\",\n",
    "    \"Разработчик Open Banking API\": \"Директор по API-экономике\",\n",
    "    \"Специалист по монетизации API\": \"Директор по API-экономике\",\n",
    "    \"Директор по облачной инфраструктуре\": \"CEO\",\n",
    "    \"Директор по API-экономике\": \"CEO\"\n",
    "}"
   ],
   "id": "ebf209bb84a78ff2",
   "outputs": [],
   "execution_count": 111
  },
  {
   "metadata": {
    "ExecuteTime": {
     "end_time": "2025-05-06T00:14:47.862483Z",
     "start_time": "2025-05-06T00:14:47.846852Z"
    }
   },
   "cell_type": "code",
   "source": [
    "positions_id = []\n",
    "positions_parent_id = []\n",
    "positions_title = []\n",
    "for name in finora_names:\n",
    "    positions_id.append(finora_with_id[name])\n",
    "    if name in finora_hierarchy.keys():\n",
    "        positions_parent_id.append(finora_with_id[finora_hierarchy[name]])\n",
    "    else:\n",
    "        positions_parent_id.append(None)\n",
    "    positions_title.append(name)\n",
    "\n",
    "for name in quantum_pay_names:\n",
    "    positions_id.append(quantum_pay_with_id[name])\n",
    "    if name in quantumpay_hierarchy.keys():\n",
    "        positions_parent_id.append(quantum_pay_with_id[quantumpay_hierarchy[name]])\n",
    "    else:\n",
    "        positions_parent_id.append(None)\n",
    "    positions_title.append(name)\n",
    "    \n",
    "for name in neobit_names:\n",
    "    positions_id.append(neobit_with_id[name])\n",
    "    if name in neobit_hierarchy.keys():\n",
    "        positions_parent_id.append(neobit_with_id[neobit_hierarchy[name]])\n",
    "    else:\n",
    "        positions_parent_id.append(None)\n",
    "    positions_title.append(name)\n",
    "\n",
    "for name in chain_guard_names:\n",
    "    positions_id.append(chain_guard_with_id[name])\n",
    "    if name in chainguard_hierarchy.keys():\n",
    "        positions_parent_id.append(chain_guard_with_id[chainguard_hierarchy[name]])\n",
    "    else:\n",
    "        positions_parent_id.append(None)\n",
    "    positions_title.append(name)\n",
    "    \n",
    "for name in data_flow_capital_names:\n",
    "    positions_id.append(data_flow_capital_with_id[name])\n",
    "    if name in dataflow_hierarchy.keys():\n",
    "        positions_parent_id.append(data_flow_capital_with_id[dataflow_hierarchy[name]])\n",
    "    else:\n",
    "        positions_parent_id.append(None)\n",
    "    positions_title.append(name)\n",
    "    \n",
    "for name in cloud_fin_names:\n",
    "    positions_id.append(cloud_fin_with_id[name])\n",
    "    if name in cloudfin_hierarchy.keys():\n",
    "        positions_parent_id.append(cloud_fin_with_id[cloudfin_hierarchy[name]])\n",
    "    else:\n",
    "        positions_parent_id.append(None)\n",
    "    positions_title.append(name)"
   ],
   "id": "1f98c79837e93d62",
   "outputs": [],
   "execution_count": 112
  },
  {
   "metadata": {
    "ExecuteTime": {
     "end_time": "2025-05-06T00:14:51.174011Z",
     "start_time": "2025-05-06T00:14:51.167988Z"
    }
   },
   "cell_type": "code",
   "source": "positions_id;",
   "id": "74e14df230b14c74",
   "outputs": [],
   "execution_count": 113
  },
  {
   "metadata": {
    "ExecuteTime": {
     "end_time": "2025-05-06T00:14:52.984396Z",
     "start_time": "2025-05-06T00:14:52.977999Z"
    }
   },
   "cell_type": "code",
   "source": "positions_parent_id;",
   "id": "14c9cc29a6ad96a1",
   "outputs": [],
   "execution_count": 114
  },
  {
   "metadata": {
    "ExecuteTime": {
     "end_time": "2025-05-06T00:14:55.177303Z",
     "start_time": "2025-05-06T00:14:55.172154Z"
    }
   },
   "cell_type": "code",
   "source": "positions_title;",
   "id": "4684f978fd4c8512",
   "outputs": [],
   "execution_count": 115
  },
  {
   "metadata": {
    "ExecuteTime": {
     "end_time": "2025-05-06T00:14:58.111093Z",
     "start_time": "2025-05-06T00:14:58.099412Z"
    }
   },
   "cell_type": "code",
   "source": [
    "df = pd.DataFrame({\"id\" : positions_id, \"parent_id\" : positions_parent_id, \"title\" : positions_title})\n",
    "df;"
   ],
   "id": "b728c0a302d21797",
   "outputs": [],
   "execution_count": 116
  },
  {
   "metadata": {
    "ExecuteTime": {
     "end_time": "2025-05-06T00:14:59.881929Z",
     "start_time": "2025-05-06T00:14:59.871993Z"
    }
   },
   "cell_type": "code",
   "source": "df.to_csv(\"/tmp/positions.csv\", index=False)",
   "id": "96e3cbcf33eb6fb0",
   "outputs": [],
   "execution_count": 117
  },
  {
   "metadata": {},
   "cell_type": "code",
   "outputs": [],
   "execution_count": null,
   "source": "",
   "id": "7faa1b9a433b305c"
  }
 ],
 "metadata": {
  "kernelspec": {
   "display_name": "Python 3",
   "language": "python",
   "name": "python3"
  },
  "language_info": {
   "codemirror_mode": {
    "name": "ipython",
    "version": 2
   },
   "file_extension": ".py",
   "mimetype": "text/x-python",
   "name": "python",
   "nbconvert_exporter": "python",
   "pygments_lexer": "ipython2",
   "version": "2.7.6"
  }
 },
 "nbformat": 4,
 "nbformat_minor": 5
}
